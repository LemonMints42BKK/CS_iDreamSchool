{
 "cells": [
  {
   "cell_type": "markdown",
   "metadata": {
    "collapsed": false,
    "jupyter": {
     "outputs_hidden": false
    }
   },
   "source": [
    "# PRINT(HELLO)\n",
    "*********\n",
    "```\n",
    "    print(\"Hi Python!\")\n",
    "```\n",
    "the print() function is used when we want to output a string.\n",
    "A **string** is a collection of characters, string are a **typy**--a type is a way for the computer to understand what kind of input we are giving it.\n",
    "The **print()** function takes a few parameters, which are pieces of information(input) you give a function to do something with.\n",
    "* The **print()** function can show us the resulting answer.\n",
    "* The **print()** function for **debugging**\n",
    "> ### HELPFUL HACKS(#): COMMEAND AND DEBUGGING\n",
    " **Comments** are pieces of code that do not get translated by the computer. You use them as a helpful messages you leave for youself or anoter developer within your code, or as parts of code you want the computer to ignore. "
   ]
  },
  {
   "cell_type": "code",
   "execution_count": null,
   "metadata": {},
   "outputs": [],
   "source": [
    "# print(\"I should not be print!\")\n",
    "print(\"Hello\")\n",
    "# print(\"You are a silly shoe!\")"
   ]
  },
  {
   "cell_type": "code",
   "execution_count": null,
   "metadata": {},
   "outputs": [],
   "source": [
    "# This code print out text to the shell\n",
    "print(\"Hello there!\")"
   ]
  },
  {
   "cell_type": "markdown",
   "metadata": {
    "collapsed": false,
    "jupyter": {
     "outputs_hidden": false
    }
   },
   "source": [
    "## TRICKY PRRINTING\n",
    "There are a few situations and special characters that the print() function doesn't play nice with."
   ]
  },
  {
   "cell_type": "markdown",
   "metadata": {
    "collapsed": false,
    "jupyter": {
     "outputs_hidden": false
    }
   },
   "source": [
    "### QUOTES(\" \", ' ') AND APOSTROPHES(')"
   ]
  },
  {
   "cell_type": "code",
   "execution_count": null,
   "metadata": {
    "collapsed": false,
    "jupyter": {
     "outputs_hidden": false
    },
    "scrolled": true
   },
   "outputs": [],
   "source": [
    "# I'm so happy to be learing how to code in Python.\n",
    "print('I'm so happy to be learing how to code in Python.')"
   ]
  },
  {
   "cell_type": "code",
   "execution_count": null,
   "metadata": {
    "scrolled": true
   },
   "outputs": [],
   "source": [
    "print(\"I'm so happy to be learing how to code in Python.\")"
   ]
  },
  {
   "cell_type": "markdown",
   "metadata": {
    "collapsed": false,
    "jupyter": {
     "outputs_hidden": false
    }
   },
   "source": [
    "#### Escape character\n",
    "In code, there are special characters called **escape character** that allow us to give the computer a heads-up when we're going to pass some tricky information to it. For Pyhton, this character is the backslash(\\) character.\n",
    "```\n",
    "print('I'm so happy to be learing how to code in Python.')\n",
    "```"
   ]
  },
  {
   "cell_type": "code",
   "execution_count": null,
   "metadata": {},
   "outputs": [],
   "source": [
    "print('I'm so happy to be learing how to code in Python.')"
   ]
  },
  {
   "cell_type": "code",
   "execution_count": null,
   "metadata": {},
   "outputs": [],
   "source": [
    "print(\"\\\"Kumusta\\\" is \"Hello\\\" in Tagalog!\")"
   ]
  },
  {
   "cell_type": "markdown",
   "metadata": {
    "collapsed": false,
    "jupyter": {
     "outputs_hidden": false
    }
   },
   "source": [
    "### MULTIPLE LINES\n",
    "the **print()** function has had time with this multiple lines. \n",
    "**\\n**  is newline character.\n",
    "> \"Hey, Can you start writing everything after this **\\n** flag on a new line or **line feed**.\" "
   ]
  },
  {
   "cell_type": "code",
   "execution_count": null,
   "metadata": {
    "collapsed": false,
    "jupyter": {
     "outputs_hidden": false
    }
   },
   "outputs": [],
   "source": [
    "print(\"Here is \\na sentence \\non many \\ndifferent lines.\")"
   ]
  },
  {
   "cell_type": "markdown",
   "metadata": {
    "collapsed": false,
    "jupyter": {
     "outputs_hidden": false
    }
   },
   "source": [
    "## VARIABLES\n",
    "A **variables** is just a fancy name of a tag, or the way to keep track of information. It's just like many tag we see in life:\n",
    "* Some people wear name tags so we know who they are.\n",
    "* Nutrition lables on food are tags. They tell us all kinds of information, like how many calories the food has, the grams of sugar it contains and the list of ingredient used.\n",
    "* Tags on clothing provide tons of information, including the size, designer, price etc.  "
   ]
  },
  {
   "cell_type": "code",
   "execution_count": null,
   "metadata": {},
   "outputs": [],
   "source": [
    "name = \"Naruto\""
   ]
  },
  {
   "cell_type": "code",
   "execution_count": null,
   "metadata": {},
   "outputs": [],
   "source": [
    "print(name)"
   ]
  },
  {
   "cell_type": "code",
   "execution_count": null,
   "metadata": {},
   "outputs": [],
   "source": [
    "box = \"\"\n",
    "# print(box)"
   ]
  },
  {
   "cell_type": "markdown",
   "metadata": {},
   "source": [
    "* We give our variable a name: **number**\n",
    "* then we assign it to a pieceof information It's a number: **4**"
   ]
  },
  {
   "cell_type": "code",
   "execution_count": null,
   "metadata": {},
   "outputs": [],
   "source": [
    "# code here!\n",
    "number = 4\n",
    "print(number)"
   ]
  },
  {
   "cell_type": "code",
   "execution_count": null,
   "metadata": {},
   "outputs": [],
   "source": [
    "type(number)"
   ]
  },
  {
   "cell_type": "code",
   "execution_count": null,
   "metadata": {},
   "outputs": [],
   "source": [
    "new_number = \"2\"\n",
    "type(new_number)"
   ]
  },
  {
   "cell_type": "markdown",
   "metadata": {
    "collapsed": false,
    "jupyter": {
     "outputs_hidden": false
    }
   },
   "source": [
    "### GOOD THINGS TO KNOW ABOUT VARIABLES\n",
    "#### Variables cannot start with number\n",
    "```\n",
    "100_days = 100\n",
    "```\n",
    "#### Variables should have the same styling\n",
    "* **Camel case:** numberOfCookies\n",
    "\n",
    "* **Pascal case:** NumberOfCookies\n",
    "\n",
    "* **Snake case:** number_of_cookies \n",
    "\n",
    "#### Variables should have meaning\n",
    "* Here is a list of good variables names:\n",
    "    * **mood = \"Happy\"**\n",
    "    * **age = 13**\n",
    "    * **favorite_color = \"red\"**\n",
    "    * **numberOfBook = 4**\n",
    "* Here is a list of non-so-good variables names:\n",
    "    * **a = \"sad\"**\n",
    "    * **curD = \"Monday\"**\n",
    "    * **fAvOrite_DrInk = \"coffee\"** "
   ]
  },
  {
   "cell_type": "code",
   "execution_count": null,
   "metadata": {},
   "outputs": [],
   "source": [
    "# try to create variables"
   ]
  },
  {
   "cell_type": "markdown",
   "metadata": {
    "collapsed": false,
    "jupyter": {
     "outputs_hidden": false
    }
   },
   "source": [
    "## FANCY PRINTING"
   ]
  },
  {
   "cell_type": "markdown",
   "metadata": {
    "collapsed": false,
    "jupyter": {
     "outputs_hidden": false
    }
   },
   "source": [
    "### FORMATTED STRING LITERLS"
   ]
  },
  {
   "cell_type": "code",
   "execution_count": null,
   "metadata": {},
   "outputs": [],
   "source": [
    "food = \"cake\"\n",
    "\n",
    "say = f\"I like {food}.\" # f-string\n",
    "\n",
    "print(say)"
   ]
  },
  {
   "cell_type": "code",
   "execution_count": null,
   "metadata": {},
   "outputs": [],
   "source": [
    "color = \"red\"\n",
    "\n",
    "me = f\"I don't like {color}.\"\n",
    "\n",
    "print(me)"
   ]
  },
  {
   "cell_type": "code",
   "execution_count": null,
   "metadata": {},
   "outputs": [],
   "source": [
    "print(\"I'm so happy to be learing how to code in Python.\")"
   ]
  },
  {
   "cell_type": "code",
   "execution_count": null,
   "metadata": {},
   "outputs": [],
   "source": [
    "# use f-string\n",
    "feeling = \"delighted!\"\n",
    "print(f\"I'm so {feeling} to be learing how to code in Python.\")"
   ]
  },
  {
   "cell_type": "markdown",
   "metadata": {
    "collapsed": false,
    "jupyter": {
     "outputs_hidden": false
    }
   },
   "source": [
    "#### Easier multi-Line strings"
   ]
  },
  {
   "cell_type": "markdown",
   "metadata": {
    "collapsed": false,
    "jupyter": {
     "outputs_hidden": false
    }
   },
   "source": [
    "Did you remember!\n",
    "```\n",
    "print(\"Here is \\na sentence \\non many \\ndifferent lines.\")\n",
    "```\n",
    "Let's rewrite our multi-line sentence like this:"
   ]
  },
  {
   "cell_type": "code",
   "execution_count": null,
   "metadata": {},
   "outputs": [],
   "source": [
    "multilines = \"\"\"\n",
    "Here is\n",
    "a sentence\n",
    "on many\n",
    "different lines.\n",
    "\"\"\"\n",
    "print(f\"{multilines}\")"
   ]
  },
  {
   "cell_type": "markdown",
   "metadata": {
    "collapsed": false,
    "jupyter": {
     "outputs_hidden": false
    }
   },
   "source": [
    "## CODE COMPLETE!"
   ]
  },
  {
   "cell_type": "markdown",
   "metadata": {},
   "source": [
    "* the **print()** function is used to writed text output from our code, which can be seen in our shell.\n",
    "* The **print()** function sometimes has trouble printing certain chracters of kinds of text, but we can usually get ground that with escape characters.\n",
    "* We can print **single** or multi-line text.\n",
    "* Variables can't start with a number.\n",
    "* Variables should have the same styling, meaning they should use capitalization underscores, or no spaces consistently.\n",
    "* Variable should be descriptive and have meaning so we can understand them.\n",
    "* **F-string** allow us to use variables in our output text.\n",
    "* **F-string** let us print something exactly as we tupe it, even with multi line text.\n",
    "* **F-string** make our code a lot cleaner and easier to read"
   ]
  }
 ],
 "metadata": {
  "kernelspec": {
   "display_name": "Python 3 (ipykernel)",
   "language": "python",
   "name": "python3"
  },
  "language_info": {
   "codemirror_mode": {
    "name": "ipython",
    "version": 3
   },
   "file_extension": ".py",
   "mimetype": "text/x-python",
   "name": "python",
   "nbconvert_exporter": "python",
   "pygments_lexer": "ipython3",
   "version": "3.11.7"
  }
 },
 "nbformat": 4,
 "nbformat_minor": 4
}
