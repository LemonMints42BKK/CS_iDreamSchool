{
 "cells": [
  {
   "cell_type": "markdown",
   "id": "44fed1da-1557-447f-9076-8000472b8bc6",
   "metadata": {},
   "source": [
    "## STRING + OPERATORS"
   ]
  },
  {
   "cell_type": "markdown",
   "id": "13bd7791-2ca8-4408-ad8b-aeaf04b5303e",
   "metadata": {},
   "source": [
    "#### Activity 1 : THERE ARE A FEW OF MY FAVORITE THINGS\n",
    "*******************************\n",
    "Now that you know how to create lists, try to create one with five of your favorite things! Remember, lists can have a mix objects in them."
   ]
  },
  {
   "cell_type": "code",
   "execution_count": null,
   "id": "6afcbdab-1f61-4a1e-870b-a60b2e7b216d",
   "metadata": {},
   "outputs": [],
   "source": []
  },
  {
   "cell_type": "markdown",
   "id": "fa81de93-a302-4690-8589-53f5be089491",
   "metadata": {},
   "source": [
    "#### Activity 2: SHAPESHIFTERS\n",
    "*******************************\n",
    "One day, you and your friend decide to go to the park and watch the clouds. You want to keep track of the different clouds you see and what shapes they look like to each of you. so you both create empty lists (in brackets[]) before you begin:\n",
    "```\n",
    "your_clouds_shapes = []\n",
    "friend_clouds_shapes = []\n",
    "```\n",
    "While watching, you continue to add the shapes of clouds you see to your list. Once you go home, you take a look at each other's list: Comparing your object and your friend's object at each index (Using **if statement** and the **== operator**). "
   ]
  },
  {
   "cell_type": "code",
   "execution_count": null,
   "id": "b4979a84-0970-4b2a-9245-81660b4de6ff",
   "metadata": {},
   "outputs": [],
   "source": [
    "your_clouds_shapes = ['circle', 'turtle', 'dolphin', 'truck', 'apple', 'spoon']\n",
    "friend_clouds_shapes = ['apple', 'turtle', 'spoon', 'truck', 'circle', 'dolphin']"
   ]
  },
  {
   "cell_type": "markdown",
   "id": "01020a0a-130e-47bb-8144-845af813328b",
   "metadata": {},
   "source": [
    "#### ACTIVITY 3: RANDOM FACTORY\n",
    "*******************************\n"
   ]
  },
  {
   "cell_type": "code",
   "execution_count": null,
   "id": "2bde33d8-18e6-41ad-962e-35c6113fa7a2",
   "metadata": {},
   "outputs": [],
   "source": [
    "random_items = ['basket', 'tennis', 'bread', 'table', 'ball', 'game', 'box']\n"
   ]
  },
  {
   "cell_type": "code",
   "execution_count": null,
   "id": "63417603-46e5-45eb-94be-6d4eee22ef1c",
   "metadata": {},
   "outputs": [],
   "source": [
    "#Example\n",
    "print(f\"\"\"Marie is playing ping-pong with her friends, Pierre.\n",
    "Pierre says that ping-pong is called something differance in his country.\n",
    "Can you form he other name for ping-pong using the random_items in list.?\n",
    "\n",
    "\"\"\")\n",
    "print(f\"{random_items[3]} {random_items[1]}\")"
   ]
  },
  {
   "cell_type": "code",
   "execution_count": null,
   "id": "a3777ff9-a359-4352-ab33-807333b9ad4a",
   "metadata": {},
   "outputs": [],
   "source": [
    "#Scenario1\n",
    "print(f\"\"\"Andre is about to play tennis with some friend. \n",
    "He has his tennis racket, but he need one more thing.\n",
    "Write some code to print out what he needs? \n",
    "\n",
    "\"\"\")\n",
    "print(f\"\")"
   ]
  },
  {
   "cell_type": "code",
   "execution_count": null,
   "id": "a3094351-ba93-48f6-856f-109c285caee7",
   "metadata": {},
   "outputs": [],
   "source": [
    "#Scenario2\n",
    "print(f\"\"\"Jean just baked some fresh bread. He wants to bring a few loaves home to share.\n",
    "What can you make from the random_items list that can help him carry his bread home?\n",
    "\n",
    "\"\"\")\n",
    "print(f\"\")"
   ]
  },
  {
   "cell_type": "code",
   "execution_count": null,
   "id": "d91ac9a8-3a58-4e2b-b39c-3c517d000bfd",
   "metadata": {},
   "outputs": [],
   "source": [
    "#Scenario3\n",
    "print(f\"\"\"Christina is singing the words to a popular song that is usually sung at baseball game.\n",
    "Can you finish the lyrics? \n",
    "\"Take me out to the ________ _______ \"\n",
    "\n",
    "\"\"\")\n",
    "print(f\"\")"
   ]
  },
  {
   "cell_type": "code",
   "execution_count": null,
   "id": "7ce88495-c251-415f-a8b5-b18b1085f348",
   "metadata": {},
   "outputs": [],
   "source": [
    "#Scenario4\n",
    "print(f\"\"\"Leslie is writing a story about her favorite sport.\n",
    "It involves a hoop, five players on each team, and a recognizable orange ball with black stripes.\n",
    "Which sport is it?\n",
    "\n",
    "\"\"\")\n",
    "print(f\"\")"
   ]
  },
  {
   "cell_type": "code",
   "execution_count": null,
   "id": "fa262f36-b109-4347-8025-40375e70bfa9",
   "metadata": {},
   "outputs": [],
   "source": [
    "#Scenario5\n",
    "print(f\"\"\"Julia just received one of the fresh loaves of bread from Jean.\n",
    "Thanking him, she quickly puts the loaf she received in this item to keep it warm.\n",
    "\n",
    "\"\"\")\n",
    "print(f\"\")"
   ]
  },
  {
   "cell_type": "code",
   "execution_count": null,
   "id": "d6f22f0f-7faf-4e88-bd36-12e5d5749eb5",
   "metadata": {},
   "outputs": [],
   "source": [
    "#scenario6\n",
    "print(f\"\"\"Mario has a lot of board games and video game. \n",
    "Luckily, he can store most of them in this item to keep his room nice and clean!\n",
    "\n",
    "\"\"\")\n",
    "print(f\"\")"
   ]
  },
  {
   "cell_type": "markdown",
   "id": "44340fba-6a18-4d5d-a64b-f415587e3d14",
   "metadata": {},
   "source": [
    "#### ACTIVITY 4: PET PARADE\n",
    "*******************************\n",
    "The local animal shelter is putting on an animal parade for the neghborhood to show off all of the newest animals that need a home!\n",
    "They've asked you to help them organize the order of the pets, bashed on some different factors."
   ]
  },
  {
   "cell_type": "code",
   "execution_count": null,
   "id": "46f5d5d0-541e-4a14-a636-93b691c15629",
   "metadata": {},
   "outputs": [],
   "source": [
    "pet_parade_order = ['Pate the Pug', 'Sally the Siamses Cat', 'Beau the Boxer', 'Lulu the Labrador', 'Lily the Lynx', 'Pauline the Parrot', 'Gina the Gerbil', 'Tubby the Tabby Cat']"
   ]
  },
  {
   "cell_type": "code",
   "execution_count": null,
   "id": "98c50581-8b25-49f7-884c-84da16cb2bfb",
   "metadata": {},
   "outputs": [],
   "source": [
    "# Go ahead to remove Gina."
   ]
  },
  {
   "cell_type": "code",
   "execution_count": null,
   "id": "4675aea7-74e8-4c39-9f5c-6eabc3d1d927",
   "metadata": {},
   "outputs": [],
   "source": [
    "# Move Pauline to the front of the pet parade order."
   ]
  },
  {
   "cell_type": "code",
   "execution_count": null,
   "id": "aef899f9-cdd4-4fcd-94eb-465def11164f",
   "metadata": {},
   "outputs": [],
   "source": [
    "# Place 'Mimi the Maltese Cat' and 'Cory the Corgi' together so they come after Lily."
   ]
  },
  {
   "cell_type": "code",
   "execution_count": null,
   "id": "47acf080-599c-4cc3-be23-eee9b0c95e6d",
   "metadata": {},
   "outputs": [],
   "source": [
    "# Remove Luu and Lily from the pet parade."
   ]
  },
  {
   "cell_type": "code",
   "execution_count": null,
   "id": "09325086-e1ff-4829-bd74-0aaa4f93480d",
   "metadata": {},
   "outputs": [],
   "source": [
    "#Expected Output\n",
    "print(f\"\"\"\n",
    "The order of the Pet Parade is: \n",
    "['Pauline the Parrot', 'Mimi the Maltese Cat', 'Cory the Corgi', ''Pate the Pug', 'Sally the Siamses Cat', 'Beau the Boxer', 'Tubby the Tabby Cat'] \n",
    "\"\"\")\n",
    "print(pet_parade_order)"
   ]
  },
  {
   "cell_type": "markdown",
   "id": "6fb1a360-adb7-48b6-a108-176bc58d28d8",
   "metadata": {},
   "source": [
    "#### ACTIVITY 5: IF THIS, THEN THAT\n",
    "*******************************\n",
    "As we grow older, who we are, what look like, and what we are interested in will probably change. Let's capture that in an **if** statement and print out what we think we will be like in the next 5, 10, 15 and 20 years."
   ]
  },
  {
   "cell_type": "code",
   "execution_count": null,
   "id": "97401695-cbc4-400a-855a-aad1f6cc5fc0",
   "metadata": {},
   "outputs": [],
   "source": [
    "year = 2024\n",
    "age = 10\n",
    "favorite_outfit = \"red dress\"\n",
    "favorite_hobby = \"coding\"\n"
   ]
  },
  {
   "cell_type": "code",
   "execution_count": null,
   "id": "120398c5-95f9-4846-985e-57187fc71d87",
   "metadata": {},
   "outputs": [],
   "source": [
    "# using 'elif' statement for 5, 10, 15 and 20 years for now.\n",
    "# Adjust your variables, too!\n",
    "if year == 2024:\n",
    "    print(f\"It's {year}. I'm currently {age} years old, love wearing a {favorite_outfit}, and currently, {favorite_hobby} takes up all my time! \")"
   ]
  },
  {
   "cell_type": "markdown",
   "id": "98026cea-163c-4df0-ac12-0a8dda8cd55d",
   "metadata": {},
   "source": [
    "#### ACTIVITY 6: SLICING AND DICING\n",
    "*******************************\n",
    "Now that you know how to use slice ranges, maybe you can offer some help to Chef Tony. He has crates of fruits and vegetables coming in and needs someone to sort them. If the crate has vegetables, they need to be taken out and moved to the 'dicing' area, so his halpers can begin dicing them for the restaurant. If you find fruits, though, they need to be brought to the 'slicing' area, so his bakers can prepare the fruit for their desserts."
   ]
  },
  {
   "cell_type": "code",
   "execution_count": null,
   "id": "383940eb-d8bf-497b-bb0c-45d5d75df4a9",
   "metadata": {},
   "outputs": [],
   "source": [
    "slicing_area = []\n",
    "dicing_area = []\n",
    "\n",
    "crate_1 = ['onion', 'peppers', 'mushrooms', 'apples', 'peaches']\n",
    "crate_2 = ['lemons', 'limes', 'broccoli', 'cauliflower', 'tangerines']\n",
    "crate_3 = ['squash', 'potatoes', 'cherries', 'cucumbers', 'carrots']"
   ]
  },
  {
   "cell_type": "code",
   "execution_count": null,
   "id": "ccb3b590-25f1-4a5c-99f0-5d74759a2653",
   "metadata": {},
   "outputs": [],
   "source": [
    "# open crate and move 'vegetavle' to 'slicing_area'\n",
    "# and 'fruits' to 'dicing_area'."
   ]
  },
  {
   "cell_type": "code",
   "execution_count": null,
   "id": "057c34ed-4bbf-45d9-8d59-5ac39fd0eed5",
   "metadata": {},
   "outputs": [],
   "source": [
    "print(f\"Slicingarea: {slicing_area}\")\n",
    "print(f\"Dicing area: {dicing_area}\")"
   ]
  },
  {
   "cell_type": "markdown",
   "id": "ba74ed92-c212-4da5-b27e-2bdd2834d055",
   "metadata": {},
   "source": [
    "#### ACTIVITY 7: TO CHANGE OR NOT TO CHANGE\n",
    "*******************************\n",
    " Now that you know the differance between lists and tuples, you can create one or the other for the following collections of items."
   ]
  },
  {
   "cell_type": "markdown",
   "id": "028cafd8-eddf-4dc4-81f2-165ff0bd4926",
   "metadata": {},
   "source": [
    "**Collection 1:**\n",
    "* first name: \"Adrienne\"\n",
    "* last name: \"Tacke\"\n",
    "* eye color: \"brown\"\n",
    "* hair color: \"black\"\n",
    "* number of fingers: 10\n",
    "* number of toes: 10"
   ]
  },
  {
   "cell_type": "code",
   "execution_count": null,
   "id": "32c192ca-0253-4b37-be1d-9aa134b4d9ae",
   "metadata": {},
   "outputs": [],
   "source": []
  },
  {
   "cell_type": "markdown",
   "id": "47188768-0412-4b27-931f-ca72e9a519e3",
   "metadata": {},
   "source": [
    "**Collection 2:**\n",
    "favorite animals: \"cats\", \"dogs\", \"turtles\", \"bunnies\""
   ]
  },
  {
   "cell_type": "code",
   "execution_count": null,
   "id": "614f30bc-d6da-4358-b158-6eaa6ffae2a3",
   "metadata": {},
   "outputs": [],
   "source": []
  },
  {
   "cell_type": "markdown",
   "id": "25a155c1-b588-487b-acd9-4ec641740434",
   "metadata": {},
   "source": [
    "**Collection 3:**\n",
    "colors of the rainbow: \"red\", \"orange\", \"yellow\", \"green\", \"blue\", \"indigo\", \"violet\""
   ]
  },
  {
   "cell_type": "code",
   "execution_count": null,
   "id": "ed5eefa8-078c-41b5-9562-6047a3c3330c",
   "metadata": {},
   "outputs": [],
   "source": []
  },
  {
   "cell_type": "markdown",
   "id": "494b5c7b-1f9a-4afe-bc8b-25abfbb6470a",
   "metadata": {},
   "source": [
    "#### CHALLENGE 1: CHOOSE YOUR ADVEMTURE\n",
    "*******************************\n",
    "Now that we can make decisions with our code using **if** statement, let's create a short Choose Yout Adventure story! This game allows you to pick and choose what to do while you go through the story, resulting in a different ending for different decisions! To help you get started, follow there instructions:"
   ]
  },
  {
   "cell_type": "markdown",
   "id": "8ea4e548-984a-4d61-a046-9d196f419eb3",
   "metadata": {},
   "source": [
    "1. First, create a Python file calles **choose-your-adventure.py** and save it.\n",
    "2. Use the following code to start defining your game:"
   ]
  },
  {
   "cell_type": "code",
   "execution_count": null,
   "id": "b02764a0-37b3-401a-9081-a6452f96ed2e",
   "metadata": {},
   "outputs": [],
   "source": [
    "# Change to your name so you can have your own game!\n",
    "name = \"Your name here\"\n",
    "# Adverture begins.\n",
    "print(f\"Welcome to {name}'s Choose Your Own Adventure game! As you follow the story, you will be presented with choices that decide your fate. Take care and choose wisely! Let's begin.\")\n",
    "print(\"You find yourself in a dark room with 2 doors. The first door is red, the second is white!\")\n",
    "#This input function allows you to type in your choice. By assigning it to a veriable, you can use the choice that has been made to decide on the next.\n",
    "\n",
    "# part of the story!"
   ]
  },
  {
   "cell_type": "markdown",
   "id": "73490826-bdb3-4193-9c93-9539f2451318",
   "metadata": {
    "jupyter": {
     "source_hidden": true
    }
   },
   "source": [
    "red_door: \"Great, you walk through the red door and are now in the future! You meet a scientist who gives you a mission of helping him save the world!\"\n",
    "\n",
    "input: \"What do you want to do? 1=Accept or 2=Decline\"\n",
    "1. ________SUCCESS________\n",
    "   You helped the scientist save the world! In gratitude, the scientist builds a time machine and sends you home!\n",
    "3. ________GAME OVER______\n",
    "   Too bad! You declined the scientist's offer and now you are stuck in the future!\n",
    "   \n",
    "white_door: \"Great, you walked through the white door and now you are in the past! You meet a princess who asks you to go on a quest.\"\n",
    "input: \"Do you want to accept her offer and go on the quest, or do you want to stay where you are? 1=Accept or 2=Decline\"\n",
    "1. The princess thanks you for accepting her offer. You begin the quest.\n",
    "3. ________GAME OVER______\n",
    "   Well, I guess your story ends here!"
   ]
  }
 ],
 "metadata": {
  "kernelspec": {
   "display_name": "Python 3 (ipykernel)",
   "language": "python",
   "name": "python3"
  },
  "language_info": {
   "codemirror_mode": {
    "name": "ipython",
    "version": 3
   },
   "file_extension": ".py",
   "mimetype": "text/x-python",
   "name": "python",
   "nbconvert_exporter": "python",
   "pygments_lexer": "ipython3",
   "version": "3.11.7"
  }
 },
 "nbformat": 4,
 "nbformat_minor": 5
}
