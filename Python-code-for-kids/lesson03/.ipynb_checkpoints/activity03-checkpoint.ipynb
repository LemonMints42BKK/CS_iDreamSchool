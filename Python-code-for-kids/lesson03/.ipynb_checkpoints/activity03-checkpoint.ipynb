{
 "cells": [
  {
   "cell_type": "markdown",
   "id": "44fed1da-1557-447f-9076-8000472b8bc6",
   "metadata": {},
   "source": [
    "## STRING + OPERATORS"
   ]
  },
  {
   "cell_type": "markdown",
   "id": "13bd7791-2ca8-4408-ad8b-aeaf04b5303e",
   "metadata": {},
   "source": [
    "#### Activity 1 : THERE ARE A FEW OF MY FAVORITE THINGS\n",
    "*******************************\n",
    "Now that you know how to create lists, try to create one with five of your favorite things! Remember, lists can have a mix objects in them."
   ]
  },
  {
   "cell_type": "code",
   "execution_count": null,
   "id": "6afcbdab-1f61-4a1e-870b-a60b2e7b216d",
   "metadata": {},
   "outputs": [],
   "source": []
  },
  {
   "cell_type": "markdown",
   "id": "fa81de93-a302-4690-8589-53f5be089491",
   "metadata": {},
   "source": [
    "#### Activity 2: SHAPESHIFTERS\n",
    "*******************************\n",
    "One day, you and your friend decide to go to the park and watch the clouds. You want to keep track of the different clouds you see and what shapes they look like to each of you. so you both create empty lists (in brackets[]) before you begin:\n",
    "```\n",
    "your_clouds_shapes = []\n",
    "friend_clouds_shapes = []\n",
    "```\n",
    "While watching, you continue to add the shapes of clouds you see to your list. Once you go home, you take a look at each other's list: Comparing your object and your friend's object at each index (Using **if statement** and the **== operator**). "
   ]
  },
  {
   "cell_type": "code",
   "execution_count": null,
   "id": "b4979a84-0970-4b2a-9245-81660b4de6ff",
   "metadata": {},
   "outputs": [],
   "source": [
    "your_clouds_shapes = ['circle', 'turtle', 'dolphin', 'truck', 'apple', 'spoon']\n",
    "friend_clouds_shapes = ['apple', 'turtle', 'spoon', 'truck', 'circle', 'dolphin']"
   ]
  },
  {
   "cell_type": "markdown",
   "id": "01020a0a-130e-47bb-8144-845af813328b",
   "metadata": {},
   "source": [
    "#### ACTIVITY 3: RANDOM FACTORY\n",
    "*******************************\n"
   ]
  },
  {
   "cell_type": "code",
   "execution_count": null,
   "id": "2bde33d8-18e6-41ad-962e-35c6113fa7a2",
   "metadata": {},
   "outputs": [],
   "source": [
    "random_items = ['basket', 'tennis', 'bread', 'table', 'ball', 'game', 'box']\n"
   ]
  },
  {
   "cell_type": "code",
   "execution_count": null,
   "id": "63417603-46e5-45eb-94be-6d4eee22ef1c",
   "metadata": {},
   "outputs": [],
   "source": [
    "#Example\n",
    "print(f\"\"\"Marie is playing ping-pong with her friends, Pierre.\n",
    "Pierre says that ping-pong is called something differance in his country.\n",
    "Can you form he other name for ping-pong using the random_items in list.?\n",
    "\n",
    "\"\"\")\n",
    "print(f\"{random_items[3]} {random_items[1]}\")"
   ]
  },
  {
   "cell_type": "code",
   "execution_count": null,
   "id": "a3777ff9-a359-4352-ab33-807333b9ad4a",
   "metadata": {},
   "outputs": [],
   "source": [
    "#Scenario1\n",
    "print(f\"\"\"Andre is about to play tennis with some friend. \n",
    "He has his tennis racket, but he need one more thing.\n",
    "Write some code to print out what he needs? \n",
    "\n",
    "\"\"\")\n",
    "print(f\"\")"
   ]
  },
  {
   "cell_type": "code",
   "execution_count": null,
   "id": "a3094351-ba93-48f6-856f-109c285caee7",
   "metadata": {},
   "outputs": [],
   "source": [
    "#Scenario2\n",
    "print(f\"\"\"Jean just baked some fresh bread. He wants to bring a few loaves home to share.\n",
    "What can you make from the random_items list that can help him carry his bread home?\n",
    "\n",
    "\"\"\")\n",
    "print(f\"\")"
   ]
  },
  {
   "cell_type": "code",
   "execution_count": null,
   "id": "d91ac9a8-3a58-4e2b-b39c-3c517d000bfd",
   "metadata": {},
   "outputs": [],
   "source": [
    "#Scenario3\n",
    "print(f\"\"\"Christina is singing the words to a popular song that is usually sung at baseball game.\n",
    "Can you finish the lyrics? \n",
    "\"Take me out to the ________ _______ \"\n",
    "\n",
    "\"\"\")\n",
    "print(f\"\")"
   ]
  },
  {
   "cell_type": "code",
   "execution_count": null,
   "id": "7ce88495-c251-415f-a8b5-b18b1085f348",
   "metadata": {},
   "outputs": [],
   "source": [
    "#Scenario4\n",
    "print(\"\\n\")\n",
    "print(f\"\")"
   ]
  },
  {
   "cell_type": "code",
   "execution_count": null,
   "id": "fa262f36-b109-4347-8025-40375e70bfa9",
   "metadata": {},
   "outputs": [],
   "source": [
    "#Scenario5\n",
    "print(\"\\n\")\n",
    "print(f\"\")"
   ]
  },
  {
   "cell_type": "code",
   "execution_count": null,
   "id": "d6f22f0f-7faf-4e88-bd36-12e5d5749eb5",
   "metadata": {},
   "outputs": [],
   "source": [
    "#scenario6\n",
    "print(\"\\n\")\n",
    "print(f\"\")"
   ]
  },
  {
   "cell_type": "markdown",
   "id": "44340fba-6a18-4d5d-a64b-f415587e3d14",
   "metadata": {},
   "source": [
    "#### ACTIVITY 4: PET PARADE\n",
    "*******************************\n"
   ]
  },
  {
   "cell_type": "code",
   "execution_count": null,
   "id": "46f5d5d0-541e-4a14-a636-93b691c15629",
   "metadata": {},
   "outputs": [],
   "source": []
  },
  {
   "cell_type": "markdown",
   "id": "6fb1a360-adb7-48b6-a108-176bc58d28d8",
   "metadata": {},
   "source": [
    "#### ACTIVITY 5: IF THIS, HEN THAT\n",
    "*******************************\n"
   ]
  },
  {
   "cell_type": "code",
   "execution_count": null,
   "id": "120398c5-95f9-4846-985e-57187fc71d87",
   "metadata": {},
   "outputs": [],
   "source": []
  },
  {
   "cell_type": "markdown",
   "id": "98026cea-163c-4df0-ac12-0a8dda8cd55d",
   "metadata": {},
   "source": [
    "#### ACTIVITY 6: SLICING AND DICING\n",
    "*******************************\n"
   ]
  },
  {
   "cell_type": "code",
   "execution_count": null,
   "id": "383940eb-d8bf-497b-bb0c-45d5d75df4a9",
   "metadata": {},
   "outputs": [],
   "source": []
  },
  {
   "cell_type": "markdown",
   "id": "ba74ed92-c212-4da5-b27e-2bdd2834d055",
   "metadata": {},
   "source": [
    "#### ACTIVITY 7: TO CHANGE OR NOT TO CHANGE\n",
    "*******************************\n",
    " "
   ]
  },
  {
   "cell_type": "code",
   "execution_count": null,
   "id": "32c192ca-0253-4b37-be1d-9aa134b4d9ae",
   "metadata": {},
   "outputs": [],
   "source": []
  },
  {
   "cell_type": "markdown",
   "id": "494b5c7b-1f9a-4afe-bc8b-25abfbb6470a",
   "metadata": {},
   "source": [
    "#### CHALLENGE 1: CHOOSE YOUR ADVEMTURE\n",
    "*******************************\n"
   ]
  },
  {
   "cell_type": "code",
   "execution_count": null,
   "id": "b02764a0-37b3-401a-9081-a6452f96ed2e",
   "metadata": {},
   "outputs": [],
   "source": []
  }
 ],
 "metadata": {
  "kernelspec": {
   "display_name": "Python 3 (ipykernel)",
   "language": "python",
   "name": "python3"
  },
  "language_info": {
   "codemirror_mode": {
    "name": "ipython",
    "version": 3
   },
   "file_extension": ".py",
   "mimetype": "text/x-python",
   "name": "python",
   "nbconvert_exporter": "python",
   "pygments_lexer": "ipython3",
   "version": "3.11.7"
  }
 },
 "nbformat": 4,
 "nbformat_minor": 5
}
