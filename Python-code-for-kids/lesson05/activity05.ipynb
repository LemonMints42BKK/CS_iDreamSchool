{
 "cells": [
  {
   "cell_type": "markdown",
   "id": "44fed1da-1557-447f-9076-8000472b8bc6",
   "metadata": {},
   "source": [
    "## MAY THE TURTLE BE WITH YOU"
   ]
  },
  {
   "cell_type": "markdown",
   "id": "13bd7791-2ca8-4408-ad8b-aeaf04b5303e",
   "metadata": {},
   "source": [
    "#### Activity 1 : LET'S DRAW A STAR!\n",
    "*******************************\n",
    "Now that we've learned about the **turtle** module and what it can do, let's draw a star! We'll create a small program that can do this for us."
   ]
  },
  {
   "cell_type": "markdown",
   "id": "bf42728e-92cf-4cb0-8e32-d2461422e781",
   "metadata": {},
   "source": [
    "> 1. Create a Python file and save it with the name **star**.\n",
    "> 2. Import the **turtle** module: ```import turtle```\n",
    "> 3. Set the **colormode** to 255: ```turtle.colormode(255)```\n",
    "> 4. Creat a **pen** variable and assing it a **turtle** object. This makes it easier to understand that we're drawing somthing instead of dealing with a turtle! ```pen = tutle.Turtle\n",
    "> 5. Choose some RGB values for a shade of yellow you like, or choose at different color. For this activity. I'm using a bright yellow: ```pen.color(255, 215, 0)```\n",
    "> 6. Let's also change th epen size so our star is nice and visible! You can choose whatever size you want: ```pen.pensize(5)```\n",
    "> 7. Now let's hide the shape so we can see our star a bit better: ```pen.ht()```\n",
    "> 8. Let's draw! We'll move our pen forword by 100 unites, then turn our pen 144 degrees to the right. We'll do this five times tp create a five-pointed star. So, the code will look like this:\n",
    "> ```\n",
    "pen.forword(100)\n",
    "pen.right(144)\n",
    "pen.forword(100)\n",
    "pen.right(144)\n",
    "pen.forword(100)\n",
    "pen.right(144)\n",
    "pen.forword(100)\n",
    "pen.right(144)\n",
    "pen.right(144)\n",
    "> ```\n",
    "> 9. Finished! Save your code by pressing the **CTRL** and **S** keys together. Then press the F5 key to see your star drawn in front of you! Bonus: Can you optimize the code above to use a **for** loop instead?"
   ]
  },
  {
   "cell_type": "code",
   "execution_count": null,
   "id": "6afcbdab-1f61-4a1e-870b-a60b2e7b216d",
   "metadata": {},
   "outputs": [],
   "source": []
  },
  {
   "cell_type": "markdown",
   "id": "fa81de93-a302-4690-8589-53f5be089491",
   "metadata": {},
   "source": [
    "#### Activity 2: FORTUNE-TELLER\n",
    "*******************************\n"
   ]
  },
  {
   "cell_type": "markdown",
   "id": "96635d5f-f621-4c77-a20e-c384adef7ed7",
   "metadata": {},
   "source": [
    "> Create a new file called fortune-teller, and save it. Within it, import **tuttle** module and **random** module:\n",
    "> ```\n",
    "import turtle\n",
    "import random\n",
    "> ```\n",
    "> Create a new copy of the **tuttle** object, and call it **pointer** : you can leave it as the default arrow shope because that's what we'll need! Also, set its size:\n",
    "> ```\n",
    "pointer = turtle.Turtle()\n",
    "pointer.turtlesize(3, 3, 2)\n",
    "> ```\n",
    "> Creat another copy of the **turtle** object, and cell it a pen. We'll use this to create our fortune-teller board:\n",
    "> ```pen = turtle.Turtle()```\n",
    "> Finally, create a variable to hold your spinner amount and use the **random** module to pick a random number:\n",
    "> ```spin_amount = random.randint(1, 360)```\n",
    "> Now, lift your *pen* so that it doesn't start drawing. We only want it to draw at the spots we tell it to: ```pen.penup()```\n",
    "> Use the goto() function to move your **pen** to the four sides of your screen.\n",
    "> On each side, write some answer that your fortune-teller pointer can land on. These can be simple **'Yes' or 'No'** answer or silly ones like **'Never in a million years!'**. To help you out, I've provided the coordinates for the four side of the screen:\n",
    "> ```\n",
    "> # right side\n",
    "> pen.goto(200, 0)\n",
    "> pen.pendown()\n",
    "> pen.write(\"Yes!\", font=('Open Sans', 30))\n",
    "> pen.penup()\n",
    "> # left side\n",
    "> pen.goto(-400, 0)\n",
    "> pen.pendown()\n",
    "> pen.write(\"Absolutely not!\", font=('Open Sans', 30))\n",
    "> pen.penup()\n",
    "> # top side\n",
    "> pen.goto(-100, 300)\n",
    "> pen.pendown()\n",
    "> pen.write(\"Uhh, maybe?\", font=('Open Sans', 30))\n",
    "> pen.penup()\n",
    "> # bottom side\n",
    "> pen.goto(0, -200)\n",
    "> pen.pendown()\n",
    "> pen.write(\"Yes, but after 50 years!\", font=('Open Sans', 30))\n",
    "> pen.ht()\n",
    "> ```\n",
    "> Finally, pass you **spin_amount** variable into your pointer's **left()** or **right()** function to make it spin a certain direction. Save your file. Now, every time you run your fortune-teller program, you will get a random andwer to your questions!"
   ]
  },
  {
   "cell_type": "code",
   "execution_count": null,
   "id": "6eb2902c-1569-4865-aa1d-979f2dc3f0a8",
   "metadata": {},
   "outputs": [],
   "source": []
  },
  {
   "cell_type": "markdown",
   "id": "01020a0a-130e-47bb-8144-845af813328b",
   "metadata": {},
   "source": [
    "#### ACTIVITY 3:RAINBOW TURTLES!\n",
    "*******************************\n",
    "Using your knowledge of the **stamp()** function, create a program that stamps a turtle in each color of the rainbow. Make sure the turtles are in the same order as the color of the rainbow!"
   ]
  },
  {
   "cell_type": "markdown",
   "id": "28c7a732-c44f-4a1f-9861-f275606447b4",
   "metadata": {},
   "source": [
    "> Hints:\n",
    "> Use a **for** loop  to iterate through the steps you need to repeat. this includes changing the color of the turtle, stamping and moving the turtle a certain amount."
   ]
  },
  {
   "cell_type": "code",
   "execution_count": null,
   "id": "349e9b41-398a-425d-bca7-d12e85ce9991",
   "metadata": {},
   "outputs": [],
   "source": []
  },
  {
   "cell_type": "markdown",
   "id": "44340fba-6a18-4d5d-a64b-f415587e3d14",
   "metadata": {},
   "source": [
    "#### ACTIVITY 4: CIRCLECEPTION\n",
    "*******************************\n",
    "Create a circle within a circle within a circle ..\n",
    "\n",
    "Using the **circle()** function and your knowledge of filling in shapes with colors, draw one big circle and fill it with a color. Then, draw a medium-size circle and fill it with a different color. At this point, make sure that you can still see the medium-size citcle and that it's contained within the big circle. finally, draw one smaller circle, fill it with a different color, and make sure it is contained within the two large circles."
   ]
  },
  {
   "cell_type": "code",
   "execution_count": null,
   "id": "46f5d5d0-541e-4a14-a636-93b691c15629",
   "metadata": {},
   "outputs": [],
   "source": []
  },
  {
   "cell_type": "markdown",
   "id": "6fb1a360-adb7-48b6-a108-176bc58d28d8",
   "metadata": {},
   "source": [
    "#### ACTIVITY 5: TOOGA'S HOUSE\n",
    "*******************************\n",
    "Now that we know how to use the **turtle** module's built-in functions. let's create a proper home for Tooga!\n",
    "\n",
    ">Create a new turtle named Tooga and a new pen to build Tooga's home:\n",
    ">```\n",
    "tooga = turtle.Turtle()\n",
    "pen = turtle.Turtle()\n",
    ">```\n",
    ">Using the **penup()** and **pendown()** functions to lift and drop the pen when you need to draw and not draw. this will make sure you don't draw on Tooga!"
   ]
  },
  {
   "cell_type": "code",
   "execution_count": null,
   "id": "120398c5-95f9-4846-985e-57187fc71d87",
   "metadata": {},
   "outputs": [],
   "source": [
    "\n"
   ]
  },
  {
   "cell_type": "markdown",
   "id": "98026cea-163c-4df0-ac12-0a8dda8cd55d",
   "metadata": {},
   "source": [
    "#### ACTIVITY 6: WRITING IN PYTHON\n",
    "*******************************\n",
    "Use the **write()** function to wirte your name programmatically! Let's try it out!\n",
    "\n",
    "> Using the **turtle** module's **write()** function, write your name on the screen!\n",
    "> ```turtle.write(\"Pattravadee\")```\n",
    "> If you use the **write()** function's other parameters, you can change the way your text looks, including the font, size, and more Here's an example: ```turtle.write(\"Pattravadee\", font = (\"Freestyle\", 50, \"normal\")```"
   ]
  },
  {
   "cell_type": "code",
   "execution_count": null,
   "id": "383940eb-d8bf-497b-bb0c-45d5d75df4a9",
   "metadata": {},
   "outputs": [],
   "source": []
  },
  {
   "cell_type": "markdown",
   "id": "494b5c7b-1f9a-4afe-bc8b-25abfbb6470a",
   "metadata": {},
   "source": [
    "#### CHALLENGE 1: \n",
    "*******************************\n"
   ]
  },
  {
   "cell_type": "markdown",
   "id": "ec1c80ba-f3b1-437a-bca2-d51778f12fca",
   "metadata": {},
   "source": [
    "#### CHALLENGE 2: \n",
    "*******************************\n"
   ]
  },
  {
   "cell_type": "markdown",
   "id": "aa0a9518-3c91-4a35-bdea-273eadbb9e08",
   "metadata": {},
   "source": [
    "#### CHALLENGE 3: \n",
    "*******************************\n"
   ]
  },
  {
   "cell_type": "code",
   "execution_count": null,
   "id": "b02764a0-37b3-401a-9081-a6452f96ed2e",
   "metadata": {},
   "outputs": [],
   "source": []
  }
 ],
 "metadata": {
  "kernelspec": {
   "display_name": "Python 3 (ipykernel)",
   "language": "python",
   "name": "python3"
  },
  "language_info": {
   "codemirror_mode": {
    "name": "ipython",
    "version": 3
   },
   "file_extension": ".py",
   "mimetype": "text/x-python",
   "name": "python",
   "nbconvert_exporter": "python",
   "pygments_lexer": "ipython3",
   "version": "3.10.12"
  }
 },
 "nbformat": 4,
 "nbformat_minor": 5
}
