{
 "cells": [
  {
   "cell_type": "markdown",
   "id": "6e7b31a4-f3b5-4b9d-a06c-e9db10001c15",
   "metadata": {},
   "source": [
    "# MAY THE TURTLE BE WITH YOU\n",
    "**********\n"
   ]
  },
  {
   "cell_type": "markdown",
   "id": "86a517ae-a099-4d13-bf71-7f54d105b179",
   "metadata": {},
   "source": [
    "## USING THE TURTLE MODULE\n",
    "\n"
   ]
  },
  {
   "cell_type": "markdown",
   "id": "c4287c67-c24e-4fce-a2ca-dfd033f7e250",
   "metadata": {},
   "source": [
    "## CREATING A TURTLE\n",
    "\n"
   ]
  },
  {
   "cell_type": "markdown",
   "id": "ba7a7312-2a99-4745-ad0c-b6f6bc3f4acd",
   "metadata": {},
   "source": [
    "## TOOGA'S HOME\n",
    "\n"
   ]
  },
  {
   "cell_type": "markdown",
   "id": "ddc709f4-4bce-4716-becd-bf6c0fd8ca52",
   "metadata": {},
   "source": [
    "> ## TO HAVE PARENTHESES OR TO NOT HAVE PARENTHESES\n",
    "\n"
   ]
  },
  {
   "cell_type": "markdown",
   "id": "c654c4f2-32ce-4897-b1ca-35e805664012",
   "metadata": {},
   "source": [
    "### COLORS ARE JUST A LITTLE, R, G AND B\n",
    "\n"
   ]
  },
  {
   "cell_type": "markdown",
   "id": "82c86ffc-97f0-4daa-b970-a8f0eb970fcb",
   "metadata": {},
   "source": [
    "> ## THE HEXADECIMAL SYSTEM\n",
    "\n"
   ]
  },
  {
   "cell_type": "markdown",
   "id": "e39d8e6a-46b9-4eda-8c98-5a80a1780bb5",
   "metadata": {},
   "source": [
    "### TOOGA'S HOME 2.0\n",
    "\n"
   ]
  },
  {
   "cell_type": "markdown",
   "id": "7773502e-180a-48cf-9399-f9d85861b318",
   "metadata": {},
   "source": [
    "## TOOGA'S TRUE COLORS\n",
    "\n"
   ]
  },
  {
   "cell_type": "markdown",
   "id": "6e36abab-2567-4740-a1f3-2d2ae33fd276",
   "metadata": {},
   "source": [
    "## BIG TOOGA OR LITTLE TOOGA?\n",
    "\n"
   ]
  },
  {
   "cell_type": "markdown",
   "id": "bd1578c6-3ce8-4ebe-b38c-0118078adabb",
   "metadata": {},
   "source": [
    "## MOVING TOOGA AROUND\n",
    "\n"
   ]
  },
  {
   "cell_type": "markdown",
   "id": "0454ddc0-4f08-4631-83bb-5e1e0e6c517b",
   "metadata": {},
   "source": [
    "## DOODLE AND SHAPES\n",
    "\n"
   ]
  },
  {
   "cell_type": "markdown",
   "id": "1ee6054e-c420-4b68-8dd4-5cd832f97b77",
   "metadata": {},
   "source": [
    "### CREATING A PEN\n",
    "\n"
   ]
  },
  {
   "cell_type": "markdown",
   "id": "344e3056-ef2d-45a8-8bd0-3ebc9ff70784",
   "metadata": {},
   "source": [
    "### CREATING A SHAPE\n",
    "\n"
   ]
  },
  {
   "cell_type": "markdown",
   "id": "0a7013e4-bfe1-4c4c-8820-f2bc204441cb",
   "metadata": {},
   "source": [
    "### FILLING SHAPES WITH COCLOR\n",
    "\n"
   ]
  },
  {
   "cell_type": "markdown",
   "id": "891f8d90-07ae-46ea-b7c6-408f19992f67",
   "metadata": {},
   "source": [
    "### USING BUILT-IN FUNCTIONS\n",
    "\n"
   ]
  },
  {
   "cell_type": "markdown",
   "id": "b6a6f5ef-d6cc-4fad-885a-2233354b854d",
   "metadata": {},
   "source": [
    "## CODE COMPLETE!\n",
    "*\n",
    "*\n",
    "*\n",
    "\n"
   ]
  }
 ],
 "metadata": {
  "kernelspec": {
   "display_name": "Python 3 (ipykernel)",
   "language": "python",
   "name": "python3"
  },
  "language_info": {
   "codemirror_mode": {
    "name": "ipython",
    "version": 3
   },
   "file_extension": ".py",
   "mimetype": "text/x-python",
   "name": "python",
   "nbconvert_exporter": "python",
   "pygments_lexer": "ipython3",
   "version": "3.10.12"
  }
 },
 "nbformat": 4,
 "nbformat_minor": 5
}
