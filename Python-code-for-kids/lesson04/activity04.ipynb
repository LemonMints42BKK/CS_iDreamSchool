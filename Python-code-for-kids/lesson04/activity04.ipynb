{
 "cells": [
  {
   "cell_type": "markdown",
   "id": "44fed1da-1557-447f-9076-8000472b8bc6",
   "metadata": {},
   "source": [
    "## LOOKING AT LOOPS"
   ]
  },
  {
   "cell_type": "markdown",
   "id": "13bd7791-2ca8-4408-ad8b-aeaf04b5303e",
   "metadata": {},
   "source": [
    "#### Activity 1 : THERE'S A LOOP FOR THAT!\n",
    "*******************************\n",
    "Let's say we wanted to output a greeting to our friends and tell them what our favorite dessert is:\n",
    "```\n",
    "print(\"Hi! My name is Adrienne. My favorite dessert is ice cream.\")\n",
    "```"
   ]
  },
  {
   "cell_type": "markdown",
   "id": "c3b0ae65-f55f-4019-879e-64e1b9dbc788",
   "metadata": {},
   "source": [
    "This works if your name happens to be Adrienne. oh, and if your favorite dessert also happens to be ice cream. What if it was chocolate? Or cookies? Or Cake? What if you had a different name? How would you change the **print()** function to output your name and favoritte dessert?\n",
    "\n",
    "you could write a **print()** function for each combination. it would like this:"
   ]
  },
  {
   "cell_type": "code",
   "execution_count": null,
   "id": "8f94a994-b28a-4918-a9fd-a0a6cc08790a",
   "metadata": {},
   "outputs": [],
   "source": [
    "print(\"Hi! My name is Adrienne. My favorite dessert is ice cream.\")\n",
    "print(\"Hi! My name is Mario. My favorite dessert is creme brulee.\")\n",
    "print(\"Hi! My name is Neo. My favorite dessert is cake.\")"
   ]
  },
  {
   "cell_type": "markdown",
   "id": "f0c4f26e-711f-44d5-94d2-1e69441f3a65",
   "metadata": {},
   "source": [
    "That's a lot of work, though. If you look at the three **print()** functions, do you notice any kind of pattern? All of them are exactly the same, except for the name and the dessert! This would be great case to use an **f-string** to print out the message."
   ]
  },
  {
   "cell_type": "code",
   "execution_count": null,
   "id": "c56d0f0f-81eb-44c4-864c-7a3e1d94da0c",
   "metadata": {},
   "outputs": [],
   "source": [
    "people = ['Mario', 'Peach', 'Luigi', 'Daisy', 'Toad', 'Yoshi']\n",
    "dessert = ['Star Pudding', 'Peach Pie', 'Popsicles', 'Honey Cake', 'Cookies', 'Jelly Beans']"
   ]
  },
  {
   "cell_type": "markdown",
   "id": "ac19968e-4880-4f20-83d2-5b1b61ed620c",
   "metadata": {},
   "source": [
    "**Expected Result**\n",
    "\n",
    "Hi! My name is Mario. My favorite dessert is Star Pudding.\n",
    "\n",
    "Hi! My name is Peach. My favorite dessert is Peach Pie.\n",
    "\n",
    "Hi! My name is Luigi. My favorite dessert is Popsicles.\n",
    "\n",
    "Hi! My name is Daisy. My favorite dessert is Honey Cake.\n",
    "\n",
    "Hi! My name is Toad. My favorite dessert is Cookies.\n",
    "\n",
    "Hi! My name is Yoshi. My favorite dessert is Jelly Beans."
   ]
  },
  {
   "cell_type": "code",
   "execution_count": null,
   "id": "22abe25c-b7de-45c5-bb15-dfaf292fd535",
   "metadata": {},
   "outputs": [],
   "source": [
    "# for loop with pattern here."
   ]
  },
  {
   "cell_type": "markdown",
   "id": "fa81de93-a302-4690-8589-53f5be089491",
   "metadata": {},
   "source": [
    "#### Activity 2: LOOP DE LOOP, WHICH HULA HOOP LOOP?\n",
    "*******************************\n",
    "Nacho the cat is walking through the neigborhood, when he sees some hula hoops by a playground. He notices that there are a few placed together by the swings and another group propped up by the basketball court. Nacho gets the idea to invite his friends to come and play."
   ]
  },
  {
   "cell_type": "markdown",
   "id": "393f842e-0532-41ea-980c-adddd9146dd7",
   "metadata": {},
   "source": [
    "> Nacho has requested for his more athlettic **or** youger friends to be sent to the hula hoops by the swings, since those hula hoops are more difficult to jump through while the swings are in motion. However, if the cat friends are older **or** less athletic, they should go to the hula hoops propped up by the basketball court, as they are easier to jump through."
   ]
  },
  {
   "cell_type": "code",
   "execution_count": null,
   "id": "aea4d932-1c86-4130-8162-c56bd4a00023",
   "metadata": {},
   "outputs": [],
   "source": [
    "nachos_friends = ['athletic', 'not athletic', 'older', 'athletic', 'younger', 'athletic', 'not athletic', 'older', 'athletic', 'older', 'athletic']\n",
    "hula_hoops_by_swings = 0\n",
    "hula_hoops_by_basketball_court = 0"
   ]
  },
  {
   "cell_type": "markdown",
   "id": "f2893e2d-997a-474e-968a-fc01c088119b",
   "metadata": {},
   "source": [
    "As you cycle through Nacho's friends, determine whice group they belong to, then add another count to that group to keep track of how many cats are in each. Finally, print how many cats are at the hula hoops by the swings and how many cats are at the hula hoops by the basketball court."
   ]
  },
  {
   "cell_type": "code",
   "execution_count": null,
   "id": "b4979a84-0970-4b2a-9245-81660b4de6ff",
   "metadata": {},
   "outputs": [],
   "source": [
    "#determine which group they belong to, here:"
   ]
  },
  {
   "cell_type": "markdown",
   "id": "ad562235-bc78-482d-bc74-5cd0fd69e4b3",
   "metadata": {},
   "source": [
    "**Sample Expected Output**\n",
    "\n",
    "Cats at Hula Hoops by Swings: 6\n",
    "\n",
    "Cats at Hula Hoops by Basketball Court: 5"
   ]
  },
  {
   "cell_type": "code",
   "execution_count": null,
   "id": "be769d13-5715-475c-af2c-59945b59685e",
   "metadata": {},
   "outputs": [],
   "source": [
    "# print() by f-staring here:"
   ]
  },
  {
   "cell_type": "markdown",
   "id": "01020a0a-130e-47bb-8144-845af813328b",
   "metadata": {},
   "source": [
    "#### ACTIVITY 3: IFFYLEGS\n",
    "*******************************\n",
    "Imagine that we worked at a zoo and needed to oranize the animals based on the number of legs they have. After organizing them, we also count the total number of animals we have in each group. How would we do this? In real life, we would probably take each animal one by one, look at the number of legs it has, and then put in an area we've marked as animals having a specific amount of leg. After sorting we could then count the total number of animals in each area.\n",
    "\n",
    "Let's try writing a small program to help us sort our animals instead. Sound good?"
   ]
  },
  {
   "cell_type": "code",
   "execution_count": null,
   "id": "2bde33d8-18e6-41ad-962e-35c6113fa7a2",
   "metadata": {},
   "outputs": [],
   "source": [
    "has_zero_legs = 0\n",
    "has_two_legs = 0\n",
    "has_four_legs = 0"
   ]
  },
  {
   "cell_type": "markdown",
   "id": "c8955e5f-795c-4fb6-8af8-da92adf18ee0",
   "metadata": {},
   "source": [
    "Cool! For now, we know that these are the three types of groups that animal from pur zoo can be placed into: a group for animals with onlegs, another group for animals with two legs, and a third group for animals that have four legs. Here's some information about the various animals and their number of legs:"
   ]
  },
  {
   "cell_type": "code",
   "execution_count": null,
   "id": "a8334488-5a4e-4128-839a-82a948ba63aa",
   "metadata": {},
   "outputs": [],
   "source": [
    "moose = 4\n",
    "snake = 0\n",
    "penguin = 2\n",
    "lion = 4\n",
    "monkey = 2\n",
    "dolphin = 0\n",
    "bear = 2\n",
    "elephant = 4\n",
    "giraffe = 4\n",
    "koala = 2\n",
    "shark = 0\n",
    "kangaroo = 2\n",
    "komodo_dragon = 4"
   ]
  },
  {
   "cell_type": "code",
   "execution_count": null,
   "id": "3c76184e-aabb-4c21-ac22-696f73b49daf",
   "metadata": {},
   "outputs": [],
   "source": [
    "# write a small program here!\n"
   ]
  },
  {
   "cell_type": "code",
   "execution_count": null,
   "id": "a40267a4-f9c8-4ddd-9a27-e7090b2411d1",
   "metadata": {},
   "outputs": [],
   "source": [
    "print(f\"Animals with no legs: {has_zero_legs}\")\n",
    "print(f\"Animals with two legs: {has_two_legs}\")\n",
    "print(f\"Animals with four legs: {has_four_legs}\")"
   ]
  },
  {
   "cell_type": "markdown",
   "id": "44340fba-6a18-4d5d-a64b-f415587e3d14",
   "metadata": {},
   "source": [
    "#### ACTIVITY 4: PASSWORD-PROTECTED SECRET MESSAGES\n",
    "*******************************\n",
    "There are times where we need to share secrets with our friends. Wouldn't it be cool to write a small program that only allows users to see the contents if they provide the right password? Well, we can do that using **while** loop!"
   ]
  },
  {
   "cell_type": "markdown",
   "id": "5a6623f3-a2ec-4b09-927e-0652e8a2d8dd",
   "metadata": {},
   "source": [
    "> Create a new Pyhton file called **secret-message**, and save it. In your program, create three variables: one for a password, one for a user's guess, and another for your secret message. I starts some below for some insiration:\n"
   ]
  },
  {
   "cell_type": "markdown",
   "id": "4399aca6-6487-49e1-bf70-95bf47006e90",
   "metadata": {},
   "source": [
    "```\n",
    "password = \"cupcake\"\n",
    "guess = \"\"\n",
    "secret_message = 'Tomorrow, I will bring cookies for me and you to share at lunch!'\n",
    "```"
   ]
  },
  {
   "cell_type": "markdown",
   "id": "d34737a7-0c8d-40d6-93b9-e157fd1c225b",
   "metadata": {},
   "source": [
    "1. create a **while loop**. Our while loop wil be checking the password a person tries through the *guess* varisble.\n",
    "2. Our program should continue to ask for a password if the person's guess is incorrect!\n",
    "3. To make sure that only those with the right password can view your  **while** loop check to see that your *password* variable is not equal to the *guess* variable.\n",
    "4. You should only stop your **while** loop once the user enters the correct password. Once that happens, use another **print()** function to show your secret message! "
   ]
  },
  {
   "cell_type": "markdown",
   "id": "6fb1a360-adb7-48b6-a108-176bc58d28d8",
   "metadata": {},
   "source": [
    "#### ACTIVITY 5: GUESS THE NUMBER GAME\n",
    "*******************************\n",
    "Using Python's buit-in random module and while loops, build a simple number guessing game! The computer will picj a random number and assign it to a variable, While you take turns trying to guess that number. Let's code!"
   ]
  },
  {
   "cell_type": "code",
   "execution_count": null,
   "id": "120398c5-95f9-4846-985e-57187fc71d87",
   "metadata": {},
   "outputs": [],
   "source": []
  },
  {
   "cell_type": "markdown",
   "id": "98026cea-163c-4df0-ac12-0a8dda8cd55d",
   "metadata": {},
   "source": [
    "#### ACTIVITY 6: LOOPING LETTERS\n",
    "*******************************\n"
   ]
  },
  {
   "cell_type": "code",
   "execution_count": null,
   "id": "383940eb-d8bf-497b-bb0c-45d5d75df4a9",
   "metadata": {},
   "outputs": [],
   "source": []
  },
  {
   "cell_type": "markdown",
   "id": "494b5c7b-1f9a-4afe-bc8b-25abfbb6470a",
   "metadata": {},
   "source": [
    "#### CHALLENGE 1: THE CHOCOLATEY COOKIE CHOOSER\n",
    "*******************************\n"
   ]
  },
  {
   "cell_type": "code",
   "execution_count": null,
   "id": "b02764a0-37b3-401a-9081-a6452f96ed2e",
   "metadata": {},
   "outputs": [],
   "source": []
  },
  {
   "cell_type": "markdown",
   "id": "0df76993-3856-4f8f-b4d5-4eb719631086",
   "metadata": {},
   "source": [
    "#### CHALLENGE 2: AN EVEN BETTER GUESS THE NUMBER GAME\n",
    "*******************************"
   ]
  }
 ],
 "metadata": {
  "kernelspec": {
   "display_name": "Python 3 (ipykernel)",
   "language": "python",
   "name": "python3"
  },
  "language_info": {
   "codemirror_mode": {
    "name": "ipython",
    "version": 3
   },
   "file_extension": ".py",
   "mimetype": "text/x-python",
   "name": "python",
   "nbconvert_exporter": "python",
   "pygments_lexer": "ipython3",
   "version": "3.11.7"
  }
 },
 "nbformat": 4,
 "nbformat_minor": 5
}
