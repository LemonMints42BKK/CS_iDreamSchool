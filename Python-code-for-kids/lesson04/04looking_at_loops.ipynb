{
 "cells": [
  {
   "cell_type": "markdown",
   "id": "e98b7077-c9f3-483f-bc96-bbe10121f1e8",
   "metadata": {},
   "source": [
    "# LOOKING AT LOOPS\n",
    "********\n",
    "A big part of why computers are so powerful is that they can repeat many actions or calculation very quickly. One of the ways we can tell a computer to do this is through loops. A loop is a special kind of programming statement that allows you to repeat a block of code. Like all programming languages, Python has two kinds of main loops: **for loops** and **while loops**."
   ]
  },
  {
   "cell_type": "markdown",
   "id": "32c80050-9e9b-4b21-b630-b30b11c4db55",
   "metadata": {},
   "source": [
    "## FOR LOOP\n",
    "this kind of loop repeats a block of code a specific number of times. We usually use **for** loops with lists and when we know how many times we need to repeat ablock of code."
   ]
  },
  {
   "cell_type": "code",
   "execution_count": null,
   "id": "af6cbf33-e94f-4e89-9d1c-fc535dd0e115",
   "metadata": {},
   "outputs": [],
   "source": [
    "planets = ['Mercury', 'Venus', 'Earth', 'Mars', 'Jupiter', 'Saturn', 'Uranus', 'Neptune']\n",
    "for planet in planets:\n",
    "    print(f\"We are now on {planet}!\")"
   ]
  },
  {
   "cell_type": "markdown",
   "id": "a17ac6d2-9459-45fc-b9d2-0a0c7dfb39ff",
   "metadata": {},
   "source": [
    "Fist, let's declare our numbers list. We do this because loops always needs a group of items to go through. This process of going through a group of times is also called **iterating** through a loop. **Iteration** means going through a group of things one by one."
   ]
  },
  {
   "cell_type": "code",
   "execution_count": null,
   "id": "1cbed55f-4aa8-4a3f-9e6a-e178af836d41",
   "metadata": {},
   "outputs": [],
   "source": [
    "numbers = ['1', '2', '3', '4', '5']\n",
    "# try to print items of numbers list as for loop"
   ]
  },
  {
   "cell_type": "markdown",
   "id": "d5b1c13b-13a4-492c-9ce5-565f2c263577",
   "metadata": {},
   "source": [
    "### ITERATING THROUGH FOR LOOPS\n",
    "As we've learned, **for** loops iterate a specific a mount of times. The computer knows how many times to iterate base on the *iterator* we give it. In our esrlier example, we iterated through every item in the list we passed to our for loop:\n",
    "* Iterated through every item in the **list** or **tuple**.\n",
    "* Iterated through a specific range of **number**."
   ]
  },
  {
   "cell_type": "code",
   "execution_count": null,
   "id": "bb60cceb-2b1b-40d6-89a0-f104c09b5ce4",
   "metadata": {},
   "outputs": [],
   "source": [
    "# one parameters : ending point\n",
    "for i in range(3):\n",
    "    print(i)"
   ]
  },
  {
   "cell_type": "code",
   "execution_count": null,
   "id": "ae79e00b-ca04-40c1-acdd-69d0e0ef5483",
   "metadata": {},
   "outputs": [],
   "source": [
    "# two parameters : starting point, ending point\n",
    "for i in range(10, 15):\n",
    "    print(i)"
   ]
  },
  {
   "cell_type": "code",
   "execution_count": null,
   "id": "c62ffefb-8e87-4d32-bbd8-9c6aa7a8374b",
   "metadata": {},
   "outputs": [],
   "source": [
    "# three parameters : starting point, ending point, step\n",
    "for i in range(0, 20, 2):\n",
    "    print(i)"
   ]
  },
  {
   "cell_type": "markdown",
   "id": "c89345f7-33ed-4451-b6e8-b9097f1d2b56",
   "metadata": {},
   "source": [
    "## WHILE LOOP\n",
    "The second type of loop is a **while loop**. This kind of loop also repeats a block of code over and over, but it will keep repeating as long as a Boolean expression continues to be **True** to the computer. We also use this type of loop with groups of items just like in **for** loops. However, the **while** loop is very different than a **for** loop, because we tend to use the **while** loop when we don't know how many times we need to repeat a block of code. Remember that in **for** loops, we know exactly the number of times a block of code needs to be repeated."
   ]
  },
  {
   "cell_type": "code",
   "execution_count": null,
   "id": "3e45de0d-ab92-4afa-a0c2-23c5c547e102",
   "metadata": {},
   "outputs": [],
   "source": [
    "numbers = [1,2,3,4,5,6,7,8,9,10,11,12,13,14,15,16,17,18,19,20]\n",
    "i = 0"
   ]
  },
  {
   "cell_type": "code",
   "execution_count": null,
   "id": "de01c82b-91ee-4597-a6fa-61dc412858f2",
   "metadata": {},
   "outputs": [],
   "source": [
    "while (i < len(numbers)):\n",
    "    if (numbers[i] + 2) < 20:\n",
    "        print(numbers[i] + 2)\n",
    "    i += 1"
   ]
  },
  {
   "cell_type": "markdown",
   "id": "0232d60c-0e56-471b-bf4e-a0b7739b3bef",
   "metadata": {},
   "source": [
    "## CODE COMPLETE!\n",
    "In this chapter, we learned about **for** loops and **while** loops. We see how useful they are for repeating blocks of code, and we now know when to use one over the other.\n",
    "* **For** loops are usually used when we know how many times we need to repeat a block of code.\n",
    "* **While** loops are usually used when we don't know how many times we need to repeat a block of code.\n",
    "* We need to be careful not to write any infinite loops, but there's always *Ctrl + C* to stop it!\n",
    "* You can creat even more complex loops by putting **if** statements within them.\n",
    "  \n",
    "Next chapter, we'll take a look at a really cool module that Python has: Turtle! We'll draw shaps, change colors, and move shapes around on the screen. But first, here are some activities to help you hone your loop skills!"
   ]
  }
 ],
 "metadata": {
  "kernelspec": {
   "display_name": "Python 3 (ipykernel)",
   "language": "python",
   "name": "python3"
  },
  "language_info": {
   "codemirror_mode": {
    "name": "ipython",
    "version": 3
   },
   "file_extension": ".py",
   "mimetype": "text/x-python",
   "name": "python",
   "nbconvert_exporter": "python",
   "pygments_lexer": "ipython3",
   "version": "3.11.7"
  }
 },
 "nbformat": 4,
 "nbformat_minor": 5
}
