{
 "cells": [
  {
   "cell_type": "markdown",
   "id": "44fed1da-1557-447f-9076-8000472b8bc6",
   "metadata": {},
   "source": [
    "## LOOKING AT LOOPS"
   ]
  },
  {
   "cell_type": "markdown",
   "id": "13bd7791-2ca8-4408-ad8b-aeaf04b5303e",
   "metadata": {},
   "source": [
    "#### Activity 1 : THERE'S A LOOP FOR THAT!\n",
    "*******************************\n",
    "Let's say we wanted to output a greeting to our friends and tell them what our favorite dessert is:\n",
    "```\n",
    "print(\"Hi! My name is Adrienne. My favorite dessert is ice cream.\")\n",
    "```"
   ]
  },
  {
   "cell_type": "markdown",
   "id": "c3b0ae65-f55f-4019-879e-64e1b9dbc788",
   "metadata": {},
   "source": [
    "This works if your name happens to be Adrienne. oh, and if your favorite dessert also happens to be ice cream. What if it was chocolate? Or cookies? Or Cake? What if you had a different name? How would you change the **print()** function to output your name and favoritte dessert?\n",
    "\n",
    "you could write a **print()** function for each combination. it would like this:"
   ]
  },
  {
   "cell_type": "code",
   "execution_count": null,
   "id": "8f94a994-b28a-4918-a9fd-a0a6cc08790a",
   "metadata": {},
   "outputs": [],
   "source": [
    "print(\"Hi! My name is Adrienne. My favorite dessert is ice cream.\")\n",
    "print(\"Hi! My name is Mario. My favorite dessert is creme brulee.\")\n",
    "print(\"Hi! My name is Neo. My favorite dessert is cake.\")"
   ]
  },
  {
   "cell_type": "markdown",
   "id": "f0c4f26e-711f-44d5-94d2-1e69441f3a65",
   "metadata": {},
   "source": [
    "That's a lot of work, though. If you look at the three **print()** functions, do you notice any kind of pattern? All of them are exactly the same, except for the name and the dessert! This would be great case to use an **f-string** to print out the message."
   ]
  },
  {
   "cell_type": "code",
   "execution_count": null,
   "id": "c56d0f0f-81eb-44c4-864c-7a3e1d94da0c",
   "metadata": {},
   "outputs": [],
   "source": [
    "people = ['Mario', 'Peach', 'Luigi', 'Daisy', 'Toad', 'Yoshi']\n",
    "dessert = ['Star Pudding', 'Peach Pie', 'Popsicles', 'Honey Cake', 'Cookies', 'Jelly Beans']"
   ]
  },
  {
   "cell_type": "markdown",
   "id": "ac19968e-4880-4f20-83d2-5b1b61ed620c",
   "metadata": {},
   "source": [
    "**Expected Result**\n",
    "\n",
    "Hi! My name is Mario. My favorite dessert is Star Pudding.\n",
    "\n",
    "Hi! My name is Peach. My favorite dessert is Peach Pie.\n",
    "\n",
    "Hi! My name is Luigi. My favorite dessert is Popsicles.\n",
    "\n",
    "Hi! My name is Daisy. My favorite dessert is Honey Cake.\n",
    "\n",
    "Hi! My name is Toad. My favorite dessert is Cookies.\n",
    "\n",
    "Hi! My name is Yoshi. My favorite dessert is Jelly Beans."
   ]
  },
  {
   "cell_type": "code",
   "execution_count": null,
   "id": "22abe25c-b7de-45c5-bb15-dfaf292fd535",
   "metadata": {},
   "outputs": [],
   "source": [
    "# for loop with pattern here."
   ]
  },
  {
   "cell_type": "markdown",
   "id": "fa81de93-a302-4690-8589-53f5be089491",
   "metadata": {},
   "source": [
    "#### Activity 2: LOOP DE LOOP, WHICH HULA HOOP LOOP?\n",
    "*******************************\n",
    "Nacho the cat is walking through the neigborhood, when he sees some hula hoops by a playground. He notices that there are a few placed together by the swings and another group propped up by the basketball court. Nacho gets the idea to invite his friends to come and play."
   ]
  },
  {
   "cell_type": "markdown",
   "id": "393f842e-0532-41ea-980c-adddd9146dd7",
   "metadata": {},
   "source": [
    "> Nacho has requested for his more athlettic **or** youger friends to be sent to the hula hoops by the swings, since those hula hoops are more difficult to jump through while the swings are in motion. However, if the cat friends are older **or** less athletic, they should go to the hula hoops propped up by the basketball court, as they are easier to jump through."
   ]
  },
  {
   "cell_type": "code",
   "execution_count": null,
   "id": "aea4d932-1c86-4130-8162-c56bd4a00023",
   "metadata": {},
   "outputs": [],
   "source": [
    "nachos_friends = ['athletic', 'not athletic', 'older', 'athletic', 'younger', 'athletic', 'not athletic', 'older', 'athletic', 'older', 'athletic']\n",
    "hula_hoops_by_swings = 0\n",
    "hula_hoops_by_basketball_court = 0"
   ]
  },
  {
   "cell_type": "markdown",
   "id": "f2893e2d-997a-474e-968a-fc01c088119b",
   "metadata": {},
   "source": [
    "As you cycle through Nacho's friends, determine whice group they belong to, then add another count to that group to keep track of how many cats are in each. Finally, print how many cats are at the hula hoops by the swings and how many cats are at the hula hoops by the basketball court."
   ]
  },
  {
   "cell_type": "code",
   "execution_count": null,
   "id": "b4979a84-0970-4b2a-9245-81660b4de6ff",
   "metadata": {},
   "outputs": [],
   "source": [
    "#determine which group they belong to, here:"
   ]
  },
  {
   "cell_type": "markdown",
   "id": "ad562235-bc78-482d-bc74-5cd0fd69e4b3",
   "metadata": {},
   "source": [
    "**Sample Expected Output**\n",
    "\n",
    "Cats at Hula Hoops by Swings: 6\n",
    "\n",
    "Cats at Hula Hoops by Basketball Court: 5"
   ]
  },
  {
   "cell_type": "code",
   "execution_count": null,
   "id": "be769d13-5715-475c-af2c-59945b59685e",
   "metadata": {},
   "outputs": [],
   "source": [
    "# print() by f-staring here:"
   ]
  },
  {
   "cell_type": "markdown",
   "id": "01020a0a-130e-47bb-8144-845af813328b",
   "metadata": {},
   "source": [
    "#### ACTIVITY 3: IFFYLEGS\n",
    "*******************************\n",
    "Imagine that we worked at a zoo and needed to oranize the animals based on the number of legs they have. After organizing them, we also count the total number of animals we have in each group. How would we do this? In real life, we would probably take each animal one by one, look at the number of legs it has, and then put in an area we've marked as animals having a specific amount of leg. After sorting we could then count the total number of animals in each area.\n",
    "\n",
    "Let's try writing a small program to help us sort our animals instead. Sound good?"
   ]
  },
  {
   "cell_type": "code",
   "execution_count": null,
   "id": "2bde33d8-18e6-41ad-962e-35c6113fa7a2",
   "metadata": {},
   "outputs": [],
   "source": [
    "has_zero_legs = 0\n",
    "has_two_legs = 0\n",
    "has_four_legs = 0"
   ]
  },
  {
   "cell_type": "markdown",
   "id": "c8955e5f-795c-4fb6-8af8-da92adf18ee0",
   "metadata": {},
   "source": [
    "Cool! For now, we know that these are the three types of groups that animal from pur zoo can be placed into: a group for animals with onlegs, another group for animals with two legs, and a third group for animals that have four legs. Here's some information about the various animals and their number of legs:"
   ]
  },
  {
   "cell_type": "code",
   "execution_count": null,
   "id": "a8334488-5a4e-4128-839a-82a948ba63aa",
   "metadata": {},
   "outputs": [],
   "source": [
    "moose = 4\n",
    "snake = 0\n",
    "penguin = 2\n",
    "lion = 4\n",
    "monkey = 2\n",
    "dolphin = 0\n",
    "bear = 2\n",
    "elephant = 4\n",
    "giraffe = 4\n",
    "koala = 2\n",
    "shark = 0\n",
    "kangaroo = 2\n",
    "komodo_dragon = 4"
   ]
  },
  {
   "cell_type": "code",
   "execution_count": null,
   "id": "3c76184e-aabb-4c21-ac22-696f73b49daf",
   "metadata": {},
   "outputs": [],
   "source": [
    "# write a small program here!\n"
   ]
  },
  {
   "cell_type": "code",
   "execution_count": null,
   "id": "a40267a4-f9c8-4ddd-9a27-e7090b2411d1",
   "metadata": {},
   "outputs": [],
   "source": [
    "print(f\"Animals with no legs: {has_zero_legs}\")\n",
    "print(f\"Animals with two legs: {has_two_legs}\")\n",
    "print(f\"Animals with four legs: {has_four_legs}\")"
   ]
  },
  {
   "cell_type": "markdown",
   "id": "44340fba-6a18-4d5d-a64b-f415587e3d14",
   "metadata": {},
   "source": [
    "#### ACTIVITY 4: PASSWORD-PROTECTED SECRET MESSAGES\n",
    "*******************************\n",
    "There are times where we need to share secrets with our friends. Wouldn't it be cool to write a small program that only allows users to see the contents if they provide the right password? Well, we can do that using **while** loop!"
   ]
  },
  {
   "cell_type": "markdown",
   "id": "5a6623f3-a2ec-4b09-927e-0652e8a2d8dd",
   "metadata": {},
   "source": [
    "> Create a new Pyhton file called **secret-message**, and save it. In your program, create three variables: one for a password, one for a user's guess, and another for your secret message. I starts some below for some insiration:\n"
   ]
  },
  {
   "cell_type": "markdown",
   "id": "4399aca6-6487-49e1-bf70-95bf47006e90",
   "metadata": {},
   "source": [
    "```\n",
    "password = \"cupcake\"\n",
    "guess = \"\"\n",
    "secret_message = 'Tomorrow, I will bring cookies for me and you to share at lunch!'\n",
    "```"
   ]
  },
  {
   "cell_type": "markdown",
   "id": "d34737a7-0c8d-40d6-93b9-e157fd1c225b",
   "metadata": {},
   "source": [
    "1. create a **while loop**. Our while loop wil be checking the password a person tries through the *guess* varisble.\n",
    "2. Our program should continue to ask for a password if the person's guess is incorrect!\n",
    "3. To make sure that only those with the right password can view your  **while** loop check to see that your *password* variable is not equal to the *guess* variable.\n",
    "4. You should only stop your **while** loop once the user enters the correct password. Once that happens, use another **print()** function to show your secret message! "
   ]
  },
  {
   "cell_type": "markdown",
   "id": "6fb1a360-adb7-48b6-a108-176bc58d28d8",
   "metadata": {},
   "source": [
    "#### ACTIVITY 5: GUESS THE NUMBER GAME\n",
    "*******************************\n",
    "Using Python's buit-in **random** module and **while** loops, build a simple number guessing game! The computer will pick a random number and assign it to a variable, While you take turns trying to guess that number. Let's code!"
   ]
  },
  {
   "cell_type": "markdown",
   "id": "728e6e90-cb95-43e7-ab2b-20b07652ec64",
   "metadata": {},
   "source": [
    "Create a new Python file called guess-the-number-game, and save it. In your program, import the random module (by typing import random as shown) and create two varibles: one to store the number the computer randomly picks, and one for the number of guesses you will allow in your game:"
   ]
  },
  {
   "cell_type": "code",
   "execution_count": null,
   "id": "bf73ec90-5882-44bf-bb37-8d1f859f57c5",
   "metadata": {},
   "outputs": [],
   "source": [
    "import random\n",
    "# selects a random numder between 1 and 100\n",
    "number = random.randint(1, 100)\n",
    "number_of_guesses = 0\n",
    "#print(number , number_of_guesses)"
   ]
  },
  {
   "cell_type": "markdown",
   "id": "b7314d0e-f3c6-4d1a-9fde-48c03dd66848",
   "metadata": {},
   "source": [
    "Remember, you can change the range of the random number picked. this is your game!\n",
    "\n",
    "Now, create a **while** loop that check your **number_if_gress** variable to see if it's less than the maximun number of guesses you will allow for your game."
   ]
  },
  {
   "cell_type": "code",
   "execution_count": null,
   "id": "bdeac50f-59a3-48da-b484-959b2364ba3e",
   "metadata": {},
   "outputs": [],
   "source": [
    "# Write some code here!\n",
    "while number != number_of_guesses:\n",
    "    number_of_guesses = int(input(\"Guess a number between 1 and 100: \"))\n",
    "    if number > number_of_guesses:\n",
    "        print(\"your guess is too low\")\n",
    "    elif number < number_of_guesses:\n",
    "        print(\"your guess is too high\")"
   ]
  },
  {
   "cell_type": "markdown",
   "id": "2c97d15f-edb0-446f-9d9a-9dca7e48fe25",
   "metadata": {},
   "source": [
    "If it is, that means you still have guesses remaining. In that case, continue the **while** loop and write a **print()** function to ask for a number between the range you have selected.\n",
    "\n",
    "By default, anything you enter into your shell is of the string type. To make sure you can check your number of guesses correctly, transform your **guess** veriable into an **int** type by using Pthon's built-in int() function:\n",
    "```\n",
    "guess = input()\n",
    "guess_number = int(guess)\n",
    "```"
   ]
  },
  {
   "cell_type": "code",
   "execution_count": null,
   "id": "2cd9aa3e-ee99-4c4f-8487-eadc4dbaf036",
   "metadata": {},
   "outputs": [],
   "source": [
    "# Write some code here!\n",
    "print(f\"Aww, you ran out of guesses. The magic number was {number}.\")"
   ]
  },
  {
   "cell_type": "markdown",
   "id": "98026cea-163c-4df0-ac12-0a8dda8cd55d",
   "metadata": {},
   "source": [
    "#### ACTIVITY 6: LOOPING LETTERS\n",
    "*******************************\n",
    "Did you know that you can loop through the letters of a string? You can with **for** loops! Let's loop through out names and count how many vowels are in them."
   ]
  },
  {
   "cell_type": "markdown",
   "id": "b76ca3fe-4cca-4c47-9924-aaecde1cf1ab",
   "metadata": {},
   "source": [
    "Let's try writing a small program to loop through our names and count how many of each vowel are present. To start, let's create some variables to hold information we'll need:"
   ]
  },
  {
   "cell_type": "code",
   "execution_count": null,
   "id": "a64cbfbf-d4e1-4d2b-92d6-d1a76f5b9505",
   "metadata": {},
   "outputs": [],
   "source": [
    "full_name = 'Pattravadee Nopjiragul'\n",
    "number_of_a = 0\n",
    "number_of_e = 0\n",
    "number_of_i = 0\n",
    "number_of_o = 0\n",
    "number_of_u = 0"
   ]
  },
  {
   "cell_type": "code",
   "execution_count": null,
   "id": "5b45fcd0-97d4-4114-973c-907defb184b5",
   "metadata": {},
   "outputs": [],
   "source": [
    "for c in full_name:\n",
    "    if c == 'a' or c == 'A':\n",
    "        number_of_a += 1\n",
    "    elif c == 'e' or c == 'E':\n",
    "        number_of_e += 1\n",
    "    elif c == 'i' or c == 'I':\n",
    "        number_of_i += 1\n",
    "    elif c == 'o' or c == 'O':\n",
    "        number_of_o += 1\n",
    "    elif c == 'u' or c == 'U':\n",
    "        number_of_u += 1"
   ]
  },
  {
   "cell_type": "code",
   "execution_count": null,
   "id": "46f8f919-ade7-4e6b-b220-d94176fb7d70",
   "metadata": {},
   "outputs": [],
   "source": [
    "print(f\"\"\"\n",
    "Total number of As: {number_of_a}\n",
    "Total number of Es: {number_of_e}\n",
    "Total number of Is: {number_of_i}\n",
    "Total number of Os: {number_of_o}\n",
    "Total number of Us: {number_of_u}\n",
    "\"\"\")"
   ]
  },
  {
   "cell_type": "markdown",
   "id": "494b5c7b-1f9a-4afe-bc8b-25abfbb6470a",
   "metadata": {},
   "source": [
    "#### CHALLENGE 1: THE CHOCOLATEY COOKIE CHOOSER\n",
    "*******************************\n",
    "Imagine that there is a huge pile of chocolate chip cookies in front of you. Obviously, sine you are a chocolate lover, you want to go through the cookies and choose the one with the most chocolate chips. This means only choosing cookies with at least 5 chocolate chips in them. to make sure you get the most chocoate cookies possible, you also only want the chocolate cookies that were baked in chocolate batter( verus the regular batter). \n",
    "\n",
    "Can you write the uitimate chocolate lover function to get the most chocolate cookies?"
   ]
  },
  {
   "cell_type": "code",
   "execution_count": null,
   "id": "b02764a0-37b3-401a-9081-a6452f96ed2e",
   "metadata": {},
   "outputs": [],
   "source": [
    "# The cookies tray is represented by the cookies list declared here:\n",
    "cookies = ['R6', 'C5', 'C3', 'C8', 'R7', 'R7', 'C6', 'C10', 'R8', 'C2', 'C7', 'R4']\n",
    "# the cookies are labeled as follows: R = Regular batter, C= Chocolate batter, n = number of chocolate chips in the cookies."
   ]
  },
  {
   "cell_type": "code",
   "execution_count": null,
   "id": "2e771d92-7602-4fd5-b3b3-d1abd21d4386",
   "metadata": {},
   "outputs": [],
   "source": [
    "# code here!"
   ]
  },
  {
   "cell_type": "markdown",
   "id": "0df76993-3856-4f8f-b4d5-4eb719631086",
   "metadata": {},
   "source": [
    "#### CHALLENGE 2: AN EVEN BETTER GUESS THE NUMBER GAME\n",
    "*******************************\n",
    "The Guess that Number game we creat in Activity 5 is pretty fun, but I think we can make it better. Wouldn't it be helpful if the game told you that your guess was too high or too low, so you could make a more educated guess the next time? Also, it would be nice to know how many guesses you have left as you play your game."
   ]
  },
  {
   "cell_type": "code",
   "execution_count": null,
   "id": "81296023-1222-4677-a898-5c024ce1192a",
   "metadata": {},
   "outputs": [],
   "source": [
    "# code here!"
   ]
  }
 ],
 "metadata": {
  "kernelspec": {
   "display_name": "Python 3 (ipykernel)",
   "language": "python",
   "name": "python3"
  },
  "language_info": {
   "codemirror_mode": {
    "name": "ipython",
    "version": 3
   },
   "file_extension": ".py",
   "mimetype": "text/x-python",
   "name": "python",
   "nbconvert_exporter": "python",
   "pygments_lexer": "ipython3",
   "version": "3.10.12"
  }
 },
 "nbformat": 4,
 "nbformat_minor": 5
}
